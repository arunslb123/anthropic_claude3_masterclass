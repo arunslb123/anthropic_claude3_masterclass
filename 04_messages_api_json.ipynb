{
 "cells": [
  {
   "cell_type": "markdown",
   "metadata": {},
   "source": [
    "# How to Use JSON Mode"
   ]
  },
  {
   "cell_type": "markdown",
   "metadata": {},
   "source": [
    "\n",
    "- JSON (JavaScript Object Notation) is a lightweight data interchange format that is easy for humans to read and write, and easy for machines to parse and generate.\n",
    "\n",
    "- When working with AI models like Claude, you may want to receive structured data in the form of JSON, rather than plain text. This allows for easier processing and extraction of information.\n",
    "\n",
    "- Although Claude doesn't have a built-in \"JSON mode,\" you can still get reliable JSON output by following a few techniques:\n",
    "  - Use string parsing to extract the JSON from Claude's response by finding the text between \"{\" and \"}\" characters.\n",
    "  - Provide a partial response in the \"assistant\" role to remove any preamble text before the JSON. For example, send \"Here is the JSON requested:\\n{\" to start the JSON output immediately.\n",
    "  - If the JSON output is followed by additional text, you can use a stop sequence to truncate the response after the JSON ends.\n",
    "\n",
    "- For more complex prompts that may include multiple JSON outputs, you can instruct Claude to wrap each JSON object in specific XML-like tags. This makes it easier to extract the JSON using regular expressions later.\n",
    "\n",
    "- Once you have extracted the JSON string from Claude's response, you can use the `json.loads()` function in Python to parse it into a dictionary or list, depending on the structure of the JSON.\n",
    "\n",
    "- By following these techniques, you can effectively use Claude to generate structured JSON data, which can be easily integrated into your applications or workflows.\n",
    "\n",
    "Remember, while Claude is capable of generating JSON, it's essential to provide clear instructions and examples to ensure you get the desired output format."
   ]
  },
  {
   "cell_type": "code",
   "execution_count": 1,
   "metadata": {},
   "outputs": [],
   "source": [
    "# !pip install anthropic --upgrade"
   ]
  },
  {
   "cell_type": "code",
   "execution_count": 2,
   "metadata": {},
   "outputs": [
    {
     "data": {
      "text/plain": [
       "True"
      ]
     },
     "execution_count": 2,
     "metadata": {},
     "output_type": "execute_result"
    }
   ],
   "source": [
    "import os\n",
    "from dotenv import load_dotenv\n",
    "\n",
    "load_dotenv()"
   ]
  },
  {
   "cell_type": "code",
   "execution_count": 3,
   "metadata": {},
   "outputs": [],
   "source": [
    "api_key = os.getenv(\"ANTHROPIC_API_KEY\")"
   ]
  },
  {
   "cell_type": "code",
   "execution_count": 4,
   "metadata": {},
   "outputs": [],
   "source": [
    "import anthropic\n",
    "\n",
    "client = anthropic.Anthropic(\n",
    "    # defaults to os.environ.get(\"ANTHROPIC_API_KEY\")\n",
    "    api_key=api_key,\n",
    ")\n"
   ]
  },
  {
   "cell_type": "code",
   "execution_count": 5,
   "metadata": {},
   "outputs": [],
   "source": [
    "recipe_text = \"\"\"\n",
    "Banana Bread Recipe\n",
    "Ingredients:\n",
    "\n",
    "3 ripe bananas, mashed\n",
    "1/3 cup melted butter\n",
    "1/2 cup sugar\n",
    "1 egg, beaten\n",
    "1 teaspoon vanilla\n",
    "1 teaspoon baking soda\n",
    "Pinch of salt\n",
    "1 1⁄2 cups all-purpose flour Instructions: Preheat oven to 350°F. Mix butter into the mashed bananas in a large mixing bowl. Mix in the sugar, egg, and vanilla. Sprinkle the baking soda and salt over the mixture and mix in. Add the flour last, mix just enough to blend the ingredients. Pour mixture into a buttered 4x8 inch loaf pan. Bake for 1 hour. Cool on a rack before removing from pan. Slice to serve. \"\"\""
   ]
  },
  {
   "cell_type": "code",
   "execution_count": 6,
   "metadata": {},
   "outputs": [],
   "source": [
    "prompt = f\"\"\"\n",
    "\n",
    "RECIPE: {recipe_text}\n",
    "\n",
    "Give me a JSON dictionay of ingredients and quantities.\n",
    "\"\"\"\n"
   ]
  },
  {
   "cell_type": "code",
   "execution_count": 9,
   "metadata": {},
   "outputs": [
    {
     "name": "stdout",
     "output_type": "stream",
     "text": [
      "\n",
      "\n",
      "  \"ingredients\":[  \n",
      "    {\n",
      "      \"item\":\"ripe bananas\",\n",
      "      \"amount\":\"3\",\n",
      "      \"notes\":\"mashed\"\n",
      "    },\n",
      "    {\n",
      "      \"item\":\"butter\", \n",
      "      \"amount\":\"1/3 cup\",\n",
      "      \"notes\":\"melted\"\n",
      "    },\n",
      "    {\n",
      "      \"item\":\"sugar\",\n",
      "      \"amount\":\"1/2 cup\"\n",
      "    },\n",
      "    {\n",
      "      \"item\":\"egg\",\n",
      "      \"amount\":\"1\",\n",
      "      \"notes\":\"beaten\"  \n",
      "    },\n",
      "    {\n",
      "      \"item\":\"vanilla\",\n",
      "      \"amount\":\"1 teaspoon\"\n",
      "    },\n",
      "    {\n",
      "      \"item\":\"baking soda\",  \n",
      "      \"amount\":\"1 teaspoon\"\n",
      "    },\n",
      "    {\n",
      "      \"item\":\"salt\",\n",
      "      \"amount\":\"1 pinch\"\n",
      "    },\n",
      "    {\n",
      "      \"item\":\"all-purpose flour\",\n",
      "      \"amount\":\"1 1/2 cups\"  \n",
      "    }\n",
      "  ]\n",
      "\n",
      "}\n"
     ]
    }
   ],
   "source": [
    "message = client.messages.create(\n",
    "    model=\"claude-3-opus-20240229\",\n",
    "    max_tokens=1024,\n",
    "    messages=[\n",
    "        {\n",
    "            \"role\": \"user\", \n",
    "            \"content\": prompt\n",
    "        },\n",
    "        {\n",
    "            \"role\":\"assistant\",\n",
    "            \"content\": \"Here is the JSON requested:\\n{\"\n",
    "        }\n",
    "    ]\n",
    ").content[0].text\n",
    "print(message)"
   ]
  },
  {
   "cell_type": "code",
   "execution_count": 10,
   "metadata": {},
   "outputs": [],
   "source": [
    "import json"
   ]
  },
  {
   "cell_type": "code",
   "execution_count": 11,
   "metadata": {},
   "outputs": [
    {
     "data": {
      "text/plain": [
       "{'ingredients': [{'item': 'ripe bananas', 'amount': '3', 'notes': 'mashed'},\n",
       "  {'item': 'butter', 'amount': '1/3 cup', 'notes': 'melted'},\n",
       "  {'item': 'sugar', 'amount': '1/2 cup'},\n",
       "  {'item': 'egg', 'amount': '1', 'notes': 'beaten'},\n",
       "  {'item': 'vanilla', 'amount': '1 teaspoon'},\n",
       "  {'item': 'baking soda', 'amount': '1 teaspoon'},\n",
       "  {'item': 'salt', 'amount': '1 pinch'},\n",
       "  {'item': 'all-purpose flour', 'amount': '1 1/2 cups'}]}"
      ]
     },
     "execution_count": 11,
     "metadata": {},
     "output_type": "execute_result"
    }
   ],
   "source": [
    "output_json = json.loads(\"{\" + message[:message.rfind(\"}\") + 1])\n",
    "output_json"
   ]
  },
  {
   "cell_type": "markdown",
   "metadata": {},
   "source": [
    "# Generate Month names in English, Tamil, Spanish, and French"
   ]
  },
  {
   "cell_type": "code",
   "execution_count": 12,
   "metadata": {},
   "outputs": [
    {
     "name": "stdout",
     "output_type": "stream",
     "text": [
      "\n",
      "  \"English\":\n",
      "  [\n",
      "    \"January\",\n",
      "    \"February\", \n",
      "    \"March\",\n",
      "    \"April\",\n",
      "    \"May\",\n",
      "    \"June\",\n",
      "    \"July\",\n",
      "    \"August\",\n",
      "    \"September\",\n",
      "    \"October\",\n",
      "    \"November\",\n",
      "    \"December\"\n",
      "  ],\n",
      "  \"Tamil\":\n",
      "  [\n",
      "    \"ஜனவரி\",\n",
      "    \"பிப்ரவரி\",\n",
      "    \"மார்ச்\",\n",
      "    \"ஏப்ரல்\",\n",
      "    \"மே\",\n",
      "    \"ஜூன்\",\n",
      "    \"ஜூலை\",\n",
      "    \"ஆகஸ்ட்\",\n",
      "    \"செப்டம்பர்\",\n",
      "    \"அக்டோபர்\",\n",
      "    \"நவம்பர்\",\n",
      "    \"டிசம்பர்\"\n",
      "  ],\n",
      "  \"Spanish\":\n",
      "  [\n",
      "    \"enero\",\n",
      "    \"febrero\",\n",
      "    \"marzo\",\n",
      "    \"abril\",\n",
      "    \"mayo\",\n",
      "    \"junio\",\n",
      "    \"julio\",\n",
      "    \"agosto\",\n",
      "    \"septiembre\",\n",
      "    \"octubre\",\n",
      "    \"noviembre\",\n",
      "    \"diciembre\"\n",
      "  ],\n",
      "  \"French\":\n",
      "  [\n",
      "    \"janvier\",\n",
      "    \"février\",\n",
      "    \"mars\",\n",
      "    \"avril\",\n",
      "    \"mai\",\n",
      "    \"juin\",\n",
      "    \"juillet\",\n",
      "    \"août\",\n",
      "    \"septembre\",\n",
      "    \"octobre\",\n",
      "    \"novembre\",\n",
      "    \"décembre\"\n",
      "  ]\n",
      "}\n"
     ]
    }
   ],
   "source": [
    "message = client.messages.create(\n",
    "    model=\"claude-3-opus-20240229\",\n",
    "    max_tokens=1024,\n",
    "    messages=[\n",
    "        {\n",
    "            \"role\": \"user\", \n",
    "            \"content\": \"Generate month names in English, Tamil, Spanish, and French in JSON format. Language as keys, and list of month names as values.\"\n",
    "        },\n",
    "        {\n",
    "            \"role\":\"assistant\",\n",
    "            \"content\": \"Here is the JSON requested:\\n{\"\n",
    "        }\n",
    "    ]\n",
    ").content[0].text\n",
    "print(message)"
   ]
  },
  {
   "cell_type": "code",
   "execution_count": 13,
   "metadata": {},
   "outputs": [
    {
     "data": {
      "text/plain": [
       "{'English': ['January',\n",
       "  'February',\n",
       "  'March',\n",
       "  'April',\n",
       "  'May',\n",
       "  'June',\n",
       "  'July',\n",
       "  'August',\n",
       "  'September',\n",
       "  'October',\n",
       "  'November',\n",
       "  'December'],\n",
       " 'Tamil': ['ஜனவரி',\n",
       "  'பிப்ரவரி',\n",
       "  'மார்ச்',\n",
       "  'ஏப்ரல்',\n",
       "  'மே',\n",
       "  'ஜூன்',\n",
       "  'ஜூலை',\n",
       "  'ஆகஸ்ட்',\n",
       "  'செப்டம்பர்',\n",
       "  'அக்டோபர்',\n",
       "  'நவம்பர்',\n",
       "  'டிசம்பர்'],\n",
       " 'Spanish': ['enero',\n",
       "  'febrero',\n",
       "  'marzo',\n",
       "  'abril',\n",
       "  'mayo',\n",
       "  'junio',\n",
       "  'julio',\n",
       "  'agosto',\n",
       "  'septiembre',\n",
       "  'octubre',\n",
       "  'noviembre',\n",
       "  'diciembre'],\n",
       " 'French': ['janvier',\n",
       "  'février',\n",
       "  'mars',\n",
       "  'avril',\n",
       "  'mai',\n",
       "  'juin',\n",
       "  'juillet',\n",
       "  'août',\n",
       "  'septembre',\n",
       "  'octobre',\n",
       "  'novembre',\n",
       "  'décembre']}"
      ]
     },
     "execution_count": 13,
     "metadata": {},
     "output_type": "execute_result"
    }
   ],
   "source": [
    "output_json = json.loads(\"{\" + message[:message.rfind(\"}\") + 1])\n",
    "output_json"
   ]
  },
  {
   "cell_type": "code",
   "execution_count": 14,
   "metadata": {},
   "outputs": [
    {
     "data": {
      "text/plain": [
       "['January',\n",
       " 'February',\n",
       " 'March',\n",
       " 'April',\n",
       " 'May',\n",
       " 'June',\n",
       " 'July',\n",
       " 'August',\n",
       " 'September',\n",
       " 'October',\n",
       " 'November',\n",
       " 'December']"
      ]
     },
     "execution_count": 14,
     "metadata": {},
     "output_type": "execute_result"
    }
   ],
   "source": [
    "output_json[\"English\"]"
   ]
  },
  {
   "cell_type": "code",
   "execution_count": null,
   "metadata": {},
   "outputs": [],
   "source": []
  }
 ],
 "metadata": {
  "kernelspec": {
   "display_name": "gpt",
   "language": "python",
   "name": "python3"
  },
  "language_info": {
   "codemirror_mode": {
    "name": "ipython",
    "version": 3
   },
   "file_extension": ".py",
   "mimetype": "text/x-python",
   "name": "python",
   "nbconvert_exporter": "python",
   "pygments_lexer": "ipython3",
   "version": "3.11.2"
  }
 },
 "nbformat": 4,
 "nbformat_minor": 2
}
