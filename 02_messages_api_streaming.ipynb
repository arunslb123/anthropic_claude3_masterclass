{
 "cells": [
  {
   "cell_type": "code",
   "execution_count": 1,
   "metadata": {},
   "outputs": [],
   "source": [
    "# !pip install anthropic --upgrade"
   ]
  },
  {
   "cell_type": "code",
   "execution_count": 1,
   "metadata": {},
   "outputs": [
    {
     "data": {
      "text/plain": [
       "True"
      ]
     },
     "execution_count": 1,
     "metadata": {},
     "output_type": "execute_result"
    }
   ],
   "source": [
    "import os\n",
    "from dotenv import load_dotenv\n",
    "\n",
    "load_dotenv()"
   ]
  },
  {
   "cell_type": "code",
   "execution_count": 2,
   "metadata": {},
   "outputs": [],
   "source": [
    "api_key = os.getenv(\"ANTHROPIC_API_KEY\")"
   ]
  },
  {
   "cell_type": "code",
   "execution_count": 3,
   "metadata": {},
   "outputs": [],
   "source": [
    "import anthropic\n",
    "\n",
    "client = anthropic.Anthropic(\n",
    "    # defaults to os.environ.get(\"ANTHROPIC_API_KEY\")\n",
    "    api_key=api_key,\n",
    ")\n"
   ]
  },
  {
   "cell_type": "markdown",
   "metadata": {},
   "source": [
    "# Without Streaming"
   ]
  },
  {
   "cell_type": "code",
   "execution_count": 4,
   "metadata": {},
   "outputs": [
    {
     "name": "stdout",
     "output_type": "stream",
     "text": [
      "[ContentBlock(text=\"Here are some of the top places to visit in Sydney, Australia:\\n\\n1. Sydney Opera House - This iconic building is a UNESCO World Heritage site and a must-see attraction.\\n\\n2. Sydney Harbour Bridge - Take a walk across the bridge or participate in a guided climb for stunning views of the city and harbor.\\n\\n3. Bondi Beach - One of Australia's most famous beaches, known for its golden sand, surfing, and vibrant beach culture.\\n\\n4. The Rocks - A historic neighborhood with cobblestone streets, colonial buildings, museums, and markets.\\n\\n5. Darling Harbour - A waterfront precinct with restaurants, shops, and attractions like the SEA LIFE Sydney Aquarium and the Australian National Maritime Museum.\\n\\n6. Royal Botanic Garden Sydney - A beautiful park featuring diverse plant collections, harbor views, and a colony of flying foxes.\\n\\n7. Taronga Zoo - Located on the shores of Sydney Harbour, this zoo is home to a wide variety of native Australian and exotic animals.\\n\\n8. Manly Beach - Take a ferry from Circular Quay to Manly to enjoy the beach, walk along the Manly Corso, and visit the Manly SEA LIFE Sanctuary.\\n\\n9. Queen Victoria Building (QVB) - A historic shopping center with intricate Romanesque architecture and high-end boutiques.\\n\\n10. Blue Mountains National Park - Located about 1.5 hours from Sydney, this stunning park offers hiking trails, waterfalls, and the famous Three Sisters rock formation.\", type='text')]\n"
     ]
    }
   ],
   "source": [
    "message = client.messages.create(\n",
    "    model=\"claude-3-opus-20240229\",\n",
    "    max_tokens=1000,\n",
    "    temperature=0.0,\n",
    "    system=\"You are an expert travel guide\",\n",
    "    messages=[\n",
    "        {\"role\": \"user\", \"content\": \"Top places to visit in Sydney\"}\n",
    "    ]\n",
    ")\n",
    "\n",
    "print(message.content)"
   ]
  },
  {
   "cell_type": "code",
   "execution_count": 5,
   "metadata": {},
   "outputs": [],
   "source": [
    "from IPython.display import display, HTML, Markdown"
   ]
  },
  {
   "cell_type": "code",
   "execution_count": 6,
   "metadata": {},
   "outputs": [
    {
     "data": {
      "text/markdown": [
       "Here are some of the top places to visit in Sydney, Australia:\n",
       "\n",
       "1. Sydney Opera House - This iconic building is a UNESCO World Heritage site and a must-see attraction.\n",
       "\n",
       "2. Sydney Harbour Bridge - Take a walk across the bridge or participate in a guided climb for stunning views of the city and harbor.\n",
       "\n",
       "3. Bondi Beach - One of Australia's most famous beaches, known for its golden sand, surfing, and vibrant beach culture.\n",
       "\n",
       "4. The Rocks - A historic neighborhood with cobblestone streets, colonial buildings, museums, and markets.\n",
       "\n",
       "5. Darling Harbour - A waterfront precinct with restaurants, shops, and attractions like the SEA LIFE Sydney Aquarium and the Australian National Maritime Museum.\n",
       "\n",
       "6. Royal Botanic Garden Sydney - A beautiful park featuring diverse plant collections, harbor views, and a colony of flying foxes.\n",
       "\n",
       "7. Taronga Zoo - Located on the shores of Sydney Harbour, this zoo is home to a wide variety of native Australian and exotic animals.\n",
       "\n",
       "8. Manly Beach - Take a ferry from Circular Quay to Manly to enjoy the beach, walk along the Manly Corso, and visit the Manly SEA LIFE Sanctuary.\n",
       "\n",
       "9. Queen Victoria Building (QVB) - A historic shopping center with intricate Romanesque architecture and high-end boutiques.\n",
       "\n",
       "10. Blue Mountains National Park - Located about 1.5 hours from Sydney, this stunning park offers hiking trails, waterfalls, and the famous Three Sisters rock formation."
      ],
      "text/plain": [
       "<IPython.core.display.Markdown object>"
      ]
     },
     "metadata": {},
     "output_type": "display_data"
    }
   ],
   "source": [
    "display(Markdown(message.content[0].text))"
   ]
  },
  {
   "cell_type": "markdown",
   "metadata": {},
   "source": [
    "It took ~22 seconds to process the output"
   ]
  },
  {
   "cell_type": "markdown",
   "metadata": {},
   "source": [
    "# With Streaming"
   ]
  },
  {
   "cell_type": "code",
   "execution_count": 7,
   "metadata": {},
   "outputs": [
    {
     "name": "stdout",
     "output_type": "stream",
     "text": [
      "Here are some of the top places to visit in Sydney, Australia:\n",
      "\n",
      "1. Sydney Opera House - This iconic building is a UNESCO World Heritage site and a must-see attraction.\n",
      "\n",
      "2. Sydney Harbour Bridge - Climb the bridge for stunning views of the city or walk across it for free.\n",
      "\n",
      "3. Bondi Beach - One of Australia's most famous beaches, known for its surf, sand, and cafes.\n",
      "\n",
      "4. The Rocks - A historic neighborhood with cobblestone streets, markets, and museums.\n",
      "\n",
      "5. Royal Botanic Garden Sydney - A beautiful park with stunning views of the harbor and city skyline.\n",
      "\n",
      "6. Taronga Zoo - A world-class zoo with a wide variety of animals and stunning views of the city.\n",
      "\n",
      "7. Darling Harbour - A waterfront precinct with restaurants, bars, and entertainment venues.\n",
      "\n",
      "8. Sydney Tower Eye - The tallest structure in Sydney, offering panoramic views of the city.\n",
      "\n",
      "9. Manly Beach - A popular beach town that can be reached by ferry from Circular Quay.\n",
      "\n",
      "10. Blue Mountains National Park - A stunning national park with hiking trails, waterfalls, and scenic lookouts, located just outside the city.\n",
      "\n",
      "These are just a few of the many attractions Sydney has to offer. The city is also known for its diverse food scene, vibrant nightlife, and cultural events throughout the year."
     ]
    }
   ],
   "source": [
    "with client.messages.stream(\n",
    "    max_tokens=1024,\n",
    "    messages=[\n",
    "        {\"role\": \"user\", \"content\": \"Top places to visit in Sydney\"}\n",
    "    ],\n",
    "    model=\"claude-3-opus-20240229\",\n",
    ") as stream:\n",
    "  for text in stream.text_stream:\n",
    "      print(text, end=\"\", flush=True)"
   ]
  },
  {
   "cell_type": "code",
   "execution_count": 8,
   "metadata": {},
   "outputs": [
    {
     "data": {
      "text/plain": [
       "anthropic.lib.streaming._messages.MessageStream"
      ]
     },
     "execution_count": 8,
     "metadata": {},
     "output_type": "execute_result"
    }
   ],
   "source": [
    "type(stream)"
   ]
  },
  {
   "cell_type": "code",
   "execution_count": 9,
   "metadata": {},
   "outputs": [
    {
     "data": {
      "text/plain": [
       "['close',\n",
       " 'current_message_snapshot',\n",
       " 'get_final_message',\n",
       " 'get_final_text',\n",
       " 'on_content_block',\n",
       " 'on_end',\n",
       " 'on_exception',\n",
       " 'on_message',\n",
       " 'on_stream_event',\n",
       " 'on_text',\n",
       " 'on_timeout',\n",
       " 'response',\n",
       " 'text_stream',\n",
       " 'until_done']"
      ]
     },
     "execution_count": 9,
     "metadata": {},
     "output_type": "execute_result"
    }
   ],
   "source": [
    "[f for f in dir(stream) if not f.startswith(\"_\")]"
   ]
  },
  {
   "cell_type": "markdown",
   "metadata": {},
   "source": [
    "When you receive data from a server using Server-Sent Events (SSE), the server sends events to your application. Each event has a specific name and some associated data in JSON format. The event name tells you what kind of event it is, and the JSON data provides more details about that event.\n",
    "\n",
    "Here's a step-by-step explanation of how the events flow:\n",
    "\n",
    "1. First, you'll receive a `message_start` event. This event includes a `Message` object, but the `content` of the message will be empty at this point. It's like a placeholder for the message that will be filled in later.\n",
    "\n",
    "2. Next, you'll receive a series of content blocks. Each content block represents a part of the message's content. The content blocks come in three stages:\n",
    "   - `content_block_start`: This event indicates the start of a new content block.\n",
    "   - `content_block_delta`: You might receive one or more of these events. They contain the actual content of the block.\n",
    "   - `content_block_stop`: This event marks the end of the content block.\n",
    "   \n",
    "   Each content block has an `index` number that tells you its position in the final `Message` object's `content` array.\n",
    "\n",
    "3. After receiving all the content blocks, you'll receive one or more `message_delta` events. These events indicate changes or updates to the overall `Message` object.\n",
    "\n",
    "4. Finally, you'll receive a `message_stop` event. This event signifies that the server has finished sending the complete message.\n",
    "\n",
    "So, in summary, the server sends events to your application, piece by piece, to gradually build up the complete message. It starts with a `message_start` event, followed by content blocks, `message_delta` events for updates, and ends with a `message_stop` event.\n",
    "\n",
    "By following this event flow, your application can receive and process the message data from the server in a structured way, even if the message is sent in multiple parts."
   ]
  },
  {
   "cell_type": "code",
   "execution_count": null,
   "metadata": {},
   "outputs": [],
   "source": []
  }
 ],
 "metadata": {
  "kernelspec": {
   "display_name": "gpt",
   "language": "python",
   "name": "python3"
  },
  "language_info": {
   "codemirror_mode": {
    "name": "ipython",
    "version": 3
   },
   "file_extension": ".py",
   "mimetype": "text/x-python",
   "name": "python",
   "nbconvert_exporter": "python",
   "pygments_lexer": "ipython3",
   "version": "3.11.2"
  }
 },
 "nbformat": 4,
 "nbformat_minor": 2
}
