{
 "cells": [
  {
   "cell_type": "markdown",
   "metadata": {},
   "source": [
    "Function calling is a powerful technique that allows you to extend the capabilities of a language model like Claude by integrating external functions or APIs. It enables the model to perform tasks or access information that it wouldn't be able to do on its own.\n",
    "\n",
    "\n",
    "\n",
    "1. **Function Definition**: First, you need to define the external function that you want Claude to call. This function can perform any task, such as string manipulation, mathematical calculations, API queries, or database operations. In the string reversal example, we defined the `reverse_string` function:\n",
    "\n",
    "```python\n",
    "def reverse_string(string):\n",
    "    return string[::-1]\n",
    "```\n",
    "\n",
    "2. **Tool Description**: Next, you create a description of the function (referred to as a \"tool\") that Claude can understand. This description includes the tool's name, a brief explanation of what it does, and the parameters it accepts. You use the `construct_format_tool_for_claude_prompt` function to format this information:\n",
    "\n",
    "```python\n",
    "tool_name = \"reverse_string\"\n",
    "tool_description = \"Reverses the provided string.\"\n",
    "\n",
    "parameters = [\n",
    "    {\n",
    "        \"name\": \"string\",\n",
    "        \"type\": \"str\",\n",
    "        \"description\": \"The string to be reversed.\"\n",
    "    }\n",
    "]\n",
    "\n",
    "tool = construct_format_tool_for_claude_prompt(tool_name, tool_description, parameters)\n",
    "```\n",
    "\n",
    "3. **System Prompt**: The system prompt is a set of instructions that guide Claude on how to use the available tools. It's created using the `construct_tool_use_system_prompt` function, which takes the tool as input:\n",
    "\n",
    "```python\n",
    "system_prompt = construct_tool_use_system_prompt([tool])\n",
    "```\n",
    "\n",
    "4. **User Message**: The user message is the input from the user that Claude will respond to. In the example, it's a request to reverse a specific string:\n",
    "\n",
    "```python\n",
    "reverse_message = {\n",
    "    \"role\": \"user\",\n",
    "    \"content\": \"Reverse the string 'Hello, World!'\"\n",
    "}\n",
    "```\n",
    "\n",
    "5. **Partial Response**: Claude processes the user message and the system prompt to generate a partial response. This response includes a function call in a specific format. The `client.messages.create` function is used to send the message to Claude and retrieve the partial response:\n",
    "\n",
    "```python\n",
    "function_calling_message = client.messages.create(\n",
    "    model=\"claude-3-opus-20240229\",\n",
    "    max_tokens=1024,\n",
    "    messages=[reverse_message],\n",
    "    system=system_prompt,\n",
    "    stop_sequences=[\"\\n\\nHuman:\", \"\\n\\nAssistant\", \"</function_calls>\"]\n",
    ").content[0].text\n",
    "```\n",
    "\n",
    "6. **Parameter Extraction**: The parameters for the function call are extracted from the partial response using the `extract_between_tags` function. This function uses regular expressions to find the values between specific XML-like tags:\n",
    "\n",
    "```python\n",
    "string = extract_between_tags(\"string\", function_calling_message)[0]\n",
    "```\n",
    "\n",
    "7. **Function Execution**: The extracted parameters are passed to the actual function (`reverse_string` in this case), and the function is executed:\n",
    "\n",
    "```python\n",
    "reversed_string = reverse_string(string)\n",
    "```\n",
    "\n",
    "8. **Result Formatting**: The result of the function execution is formatted into a structure that Claude can understand using the `construct_successful_function_run_injection_prompt` function:\n",
    "\n",
    "```python\n",
    "formatted_results = [{\n",
    "    'tool_name': 'reverse_string',\n",
    "    'tool_result': reversed_string\n",
    "}]\n",
    "function_results = construct_successful_function_run_injection_prompt(formatted_results)\n",
    "```\n",
    "\n",
    "9. **Final Response**: The formatted results are appended to the partial response, and this combined message is sent back to Claude to generate the final response:\n",
    "\n",
    "```python\n",
    "partial_assistant_message = function_calling_message + \"</function_calls>\" + function_results\n",
    "\n",
    "final_message = client.messages.create(\n",
    "    model=\"claude-3-opus-20240229\",\n",
    "    max_tokens=1024,\n",
    "    messages=[\n",
    "        reverse_message,\n",
    "        {\n",
    "            \"role\": \"assistant\",\n",
    "            \"content\": partial_assistant_message\n",
    "        }\n",
    "    ],\n",
    "    system=system_prompt\n",
    ").content[0].text\n",
    "```\n",
    "\n",
    "In the final response, Claude incorporates the result of the function call into its output, allowing it to provide a response that it wouldn't have been able to generate on its own.\n",
    "\n",
    "Function calling opens up a wide range of possibilities for extending the capabilities of language models like Claude. By defining custom functions and providing clear descriptions of how to use them, you can enable Claude to perform complex tasks, access real-time data, and interact with external systems."
   ]
  },
  {
   "cell_type": "code",
   "execution_count": 1,
   "metadata": {},
   "outputs": [],
   "source": [
    "# !pip install anthropic --upgrade"
   ]
  },
  {
   "cell_type": "code",
   "execution_count": 1,
   "metadata": {},
   "outputs": [],
   "source": [
    "import os\n",
    "from dotenv import load_dotenv\n",
    "load_dotenv()\n",
    "api_key = os.getenv(\"ANTHROPIC_API_KEY\")"
   ]
  },
  {
   "cell_type": "code",
   "execution_count": 2,
   "metadata": {},
   "outputs": [],
   "source": [
    "import anthropic\n",
    "import re\n",
    "import json\n",
    "\n",
    "client = anthropic.Anthropic(\n",
    "    # defaults to os.environ.get(\"ANTHROPIC_API_KEY\")\n",
    "    api_key=api_key,\n",
    ")\n"
   ]
  },
  {
   "cell_type": "code",
   "execution_count": 3,
   "metadata": {},
   "outputs": [],
   "source": [
    "def construct_format_parameters_prompt(parameters):\n",
    "    constructed_prompt = \"\\n\".join(\n",
    "        f\"<parameter>\\n<name>{parameter['name']}</name>\\n<type>{parameter['type']}</type>\\n<description>{parameter['description']}</description>\\n</parameter>\"\n",
    "        for parameter in parameters\n",
    "    )\n",
    "    return constructed_prompt"
   ]
  },
  {
   "cell_type": "code",
   "execution_count": 4,
   "metadata": {},
   "outputs": [],
   "source": [
    "def construct_format_tool_for_claude_prompt(name, description, parameters):\n",
    "    constructed_prompt = (\n",
    "        \"<tool_description>\\n\"\n",
    "        f\"<tool_name>{name}</tool_name>\\n\"\n",
    "        \"<description>\\n\"\n",
    "        f\"{description}\\n\"\n",
    "        \"</description>\\n\"\n",
    "        \"<parameters>\\n\"\n",
    "        f\"{construct_format_parameters_prompt(parameters)}\\n\"\n",
    "        \"</parameters>\\n\"\n",
    "        \"</tool_description>\"\n",
    "    )\n",
    "    return constructed_prompt"
   ]
  },
  {
   "cell_type": "code",
   "execution_count": 5,
   "metadata": {},
   "outputs": [],
   "source": [
    "def construct_tool_use_system_prompt(tools):\n",
    "    tool_use_system_prompt = (\n",
    "        \"In this environment you have access to a set of tools you can use to answer the user's question.\\n\"\n",
    "        \"\\n\"\n",
    "        \"You may call them like this:\\n\"\n",
    "        \"<function_calls>\\n\"\n",
    "        \"<invoke>\\n\"\n",
    "        \"<tool_name>$TOOL_NAME</tool_name>\\n\"\n",
    "        \"<parameters>\\n\"\n",
    "        \"<$PARAMETER_NAME>$PARAMETER_VALUE</$PARAMETER_NAME>\\n\"\n",
    "        \"...\\n\"\n",
    "        \"</parameters>\\n\"\n",
    "        \"</invoke>\\n\"\n",
    "        \"</function_calls>\\n\"\n",
    "        \"\\n\"\n",
    "        \"Here are the tools available:\\n\"\n",
    "        \"<tools>\\n\"\n",
    "        + '\\n'.join([tool for tool in tools]) +\n",
    "        \"\\n</tools>\"\n",
    "    )\n",
    "    return tool_use_system_prompt"
   ]
  },
  {
   "cell_type": "code",
   "execution_count": 6,
   "metadata": {},
   "outputs": [],
   "source": [
    "def extract_between_tags(tag: str, string: str, strip: bool = False) -> list[str]:\n",
    "    ext_list = re.findall(f\"<{tag}>(.+?)</{tag}>\", string, re.DOTALL)\n",
    "    if strip:\n",
    "        ext_list = [e.strip() for e in ext_list]\n",
    "    return ext_list"
   ]
  },
  {
   "cell_type": "code",
   "execution_count": 26,
   "metadata": {},
   "outputs": [
    {
     "name": "stdout",
     "output_type": "stream",
     "text": [
      "tpgtahcaidepcolcycne\n"
     ]
    }
   ],
   "source": [
    "message = client.messages.create(\n",
    "    model=\"claude-3-opus-20240229\",\n",
    "    max_tokens=1024,\n",
    "    messages=[\n",
    "        {\n",
    "            \"role\": \"user\", \n",
    "            \"content\": \"Reverse the string encyclopediachatgpt\"\n",
    "        },\n",
    "\n",
    "    ]\n",
    ").content[0].text\n",
    "print(message)"
   ]
  },
  {
   "cell_type": "code",
   "execution_count": 28,
   "metadata": {},
   "outputs": [
    {
     "data": {
      "text/plain": [
       "False"
      ]
     },
     "execution_count": 28,
     "metadata": {},
     "output_type": "execute_result"
    }
   ],
   "source": [
    "\"tpgtahcaidepcolcycne\" == \"encyclopediachatgpt\"[::-1]"
   ]
  },
  {
   "cell_type": "markdown",
   "metadata": {},
   "source": [
    "Most large language models (LLMs) struggle with string reversal tasks because they are primarily trained on natural language data and lack explicit programming knowledge. "
   ]
  },
  {
   "cell_type": "code",
   "execution_count": 9,
   "metadata": {},
   "outputs": [],
   "source": [
    "def reverse_string(string):\n",
    "    return string[::-1]"
   ]
  },
  {
   "cell_type": "code",
   "execution_count": 10,
   "metadata": {},
   "outputs": [],
   "source": [
    "tool_name = \"reverse_string\"\n",
    "tool_description = \"Reverses the provided string.\"\n",
    "\n",
    "parameters = [\n",
    "    {\n",
    "        \"name\": \"string\",\n",
    "        \"type\": \"str\",\n",
    "        \"description\": \"The string to be reversed.\"\n",
    "    }\n",
    "]\n",
    "\n",
    "tool = construct_format_tool_for_claude_prompt(tool_name, tool_description, parameters)\n",
    "system_prompt = construct_tool_use_system_prompt([tool])"
   ]
  },
  {
   "cell_type": "code",
   "execution_count": 11,
   "metadata": {},
   "outputs": [
    {
     "name": "stdout",
     "output_type": "stream",
     "text": [
      "<tool_description>\n",
      "<tool_name>reverse_string</tool_name>\n",
      "<description>\n",
      "Reverses the provided string.\n",
      "</description>\n",
      "<parameters>\n",
      "<parameter>\n",
      "<name>string</name>\n",
      "<type>str</type>\n",
      "<description>The string to be reversed.</description>\n",
      "</parameter>\n",
      "</parameters>\n",
      "</tool_description>\n"
     ]
    }
   ],
   "source": [
    "print(tool)"
   ]
  },
  {
   "cell_type": "code",
   "execution_count": 12,
   "metadata": {},
   "outputs": [
    {
     "name": "stdout",
     "output_type": "stream",
     "text": [
      "In this environment you have access to a set of tools you can use to answer the user's question.\n",
      "\n",
      "You may call them like this:\n",
      "<function_calls>\n",
      "<invoke>\n",
      "<tool_name>$TOOL_NAME</tool_name>\n",
      "<parameters>\n",
      "<$PARAMETER_NAME>$PARAMETER_VALUE</$PARAMETER_NAME>\n",
      "...\n",
      "</parameters>\n",
      "</invoke>\n",
      "</function_calls>\n",
      "\n",
      "Here are the tools available:\n",
      "<tools>\n",
      "<tool_description>\n",
      "<tool_name>reverse_string</tool_name>\n",
      "<description>\n",
      "Reverses the provided string.\n",
      "</description>\n",
      "<parameters>\n",
      "<parameter>\n",
      "<name>string</name>\n",
      "<type>str</type>\n",
      "<description>The string to be reversed.</description>\n",
      "</parameter>\n",
      "</parameters>\n",
      "</tool_description>\n",
      "</tools>\n"
     ]
    }
   ],
   "source": [
    "print(system_prompt)"
   ]
  },
  {
   "cell_type": "code",
   "execution_count": 15,
   "metadata": {},
   "outputs": [],
   "source": [
    "reverse_message = {\n",
    "    \"role\": \"user\",\n",
    "    \"content\": \"Reverse the string encyclopedia\"\n",
    "}"
   ]
  },
  {
   "cell_type": "code",
   "execution_count": 16,
   "metadata": {},
   "outputs": [
    {
     "name": "stdout",
     "output_type": "stream",
     "text": [
      "Okay, here is how to reverse the string \"encyclopedia\":\n",
      "\n",
      "<function_calls>\n",
      "<invoke>\n",
      "<tool_name>reverse_string</tool_name>\n",
      "<parameters>\n",
      "<string>encyclopedia</string>\n",
      "</parameters>\n",
      "</invoke>\n",
      "\n"
     ]
    }
   ],
   "source": [
    "function_calling_message = client.messages.create(\n",
    "    model=\"claude-3-opus-20240229\",\n",
    "    max_tokens=1024,\n",
    "    messages=[reverse_message],\n",
    "    system=system_prompt,\n",
    "    stop_sequences=[\"\\n\\nHuman:\", \"\\n\\nAssistant\", \"</function_calls>\"]\n",
    ").content[0].text\n",
    "\n",
    "print(function_calling_message)"
   ]
  },
  {
   "cell_type": "code",
   "execution_count": 22,
   "metadata": {},
   "outputs": [],
   "source": [
    "string = extract_between_tags(\"string\", function_calling_message)[0]\n",
    "reversed_string = reverse_string(string)"
   ]
  },
  {
   "cell_type": "code",
   "execution_count": 23,
   "metadata": {},
   "outputs": [],
   "source": [
    "def construct_successful_function_run_injection_prompt(invoke_results):\n",
    "    constructed_prompt = (\n",
    "        \"<function_results>\\n\"\n",
    "        + '\\n'.join(\n",
    "            f\"<result>\\n<tool_name>{res['tool_name']}</tool_name>\\n<stdout>\\n{res['tool_result']}\\n</stdout>\\n</result>\" \n",
    "            for res in invoke_results\n",
    "        ) + \"\\n</function_results>\"\n",
    "    )\n",
    "    \n",
    "    return constructed_prompt"
   ]
  },
  {
   "cell_type": "code",
   "execution_count": 24,
   "metadata": {},
   "outputs": [],
   "source": [
    "formatted_results = [{\n",
    "    'tool_name': 'reverse_string',\n",
    "    'tool_result': reversed_string\n",
    "}]\n",
    "function_results = construct_successful_function_run_injection_prompt(formatted_results)"
   ]
  },
  {
   "cell_type": "code",
   "execution_count": 26,
   "metadata": {},
   "outputs": [
    {
     "name": "stdout",
     "output_type": "stream",
     "text": [
      "<function_results>\n",
      "<result>\n",
      "<tool_name>reverse_string</tool_name>\n",
      "<stdout>\n",
      "aidepolcoycne\n",
      "</stdout>\n",
      "</result>\n",
      "</function_results>\n"
     ]
    }
   ],
   "source": [
    "print(function_results)"
   ]
  },
  {
   "cell_type": "code",
   "execution_count": 27,
   "metadata": {},
   "outputs": [
    {
     "name": "stdout",
     "output_type": "stream",
     "text": [
      "Here is the result of reversing the string \"encyoclopedia\":\n",
      "<function_calls>\n",
      "<invoke>\n",
      "<tool_name>reverse_string</tool_name>\n",
      "<parameters>\n",
      "<string>encyoclopedia</string>\n",
      "</parameters>\n",
      "</invoke>\n",
      "</function_calls><function_results>\n",
      "<result>\n",
      "<tool_name>reverse_string</tool_name>\n",
      "<stdout>\n",
      "aidepolcoycne\n",
      "</stdout>\n",
      "</result>\n",
      "</function_results>\n",
      "\n",
      "So the reversed string is \"aidepolcoycne\".\n"
     ]
    }
   ],
   "source": [
    "partial_assistant_message = function_calling_message + \"</function_calls>\" + function_results\n",
    "\n",
    "final_message = client.messages.create(\n",
    "    model=\"claude-3-opus-20240229\",\n",
    "    max_tokens=1024,\n",
    "    messages=[\n",
    "        reverse_message,\n",
    "        {\n",
    "            \"role\": \"assistant\",\n",
    "            \"content\": partial_assistant_message\n",
    "        }\n",
    "    ],\n",
    "    system=system_prompt\n",
    ").content[0].text\n",
    "\n",
    "print(partial_assistant_message + final_message)"
   ]
  },
  {
   "cell_type": "code",
   "execution_count": 28,
   "metadata": {},
   "outputs": [
    {
     "name": "stdout",
     "output_type": "stream",
     "text": [
      "\n",
      "\n",
      "So the reversed string is \"aidepolcoycne\".\n"
     ]
    }
   ],
   "source": [
    "print(final_message)"
   ]
  },
  {
   "cell_type": "markdown",
   "metadata": {},
   "source": [
    "# Another Approach"
   ]
  },
  {
   "cell_type": "markdown",
   "metadata": {},
   "source": [
    "# Tools \n",
    "\n",
    "## Anthropic Tools Installation"
   ]
  },
  {
   "cell_type": "markdown",
   "metadata": {},
   "source": [
    "Function calling is a technique that allows you to extend the capabilities of a language model like Claude by integrating external functions or APIs. It enables the model to perform tasks or access information that it wouldn't be able to do on its own.\n",
    "\n",
    "The process involves defining a set of tools (functions) that Claude can use, and then providing a structured prompt format that guides Claude on how to use these tools. The prompt format includes a description of each tool, its parameters, and how to call it.\n",
    "\n",
    "When Claude receives a user's message, it analyzes the message and determines if it needs to use any of the available tools to provide a response. If it does, it generates a special message (called a \"tool_inputs\" message) that specifies which tool it wants to use and what arguments it wants to pass to that tool.\n",
    "\n",
    "At this point, there are two modes of operation: automatic and manual.\n",
    "\n",
    "1. Automatic Mode (execution_mode='automatic'):\n",
    "   - In automatic mode, the tool use process is handled automatically by the ToolUser class.\n",
    "   - When Claude generates a \"tool_inputs\" message, the ToolUser automatically extracts the specified tool and its arguments, calls the corresponding function, and generates a \"tool_outputs\" message with the result.\n",
    "   - This process continues until Claude generates a response that doesn't require any tool use (i.e., a regular \"assistant\" message).\n",
    "   - Automatic mode is simpler to use but provides less control over the tool use process.\n",
    "\n",
    "2. Manual Mode (execution_mode='manual'):\n",
    "   - In manual mode, you have more control over the tool use process.\n",
    "   - When Claude generates a \"tool_inputs\" message, the ToolUser stops and returns this message to you.\n",
    "   - You are then responsible for extracting the specified tool and its arguments, calling the corresponding function, and generating a \"tool_outputs\" message with the result.\n",
    "   - You pass this \"tool_outputs\" message back to the ToolUser, which sends it to Claude.\n",
    "   - This process continues, with you manually handling each \"tool_inputs\" message, until Claude generates a regular \"assistant\" message.\n",
    "   - Manual mode requires more code to handle the back-and-forth between Claude and the tools, but it allows you to add your own validation logic, custom error handling, and more.\n",
    "\n",
    "Regardless of the mode, the key idea is that Claude can ask to use external tools when it needs them, and the ToolUser facilitates the communication between Claude and these tools.\n",
    "\n",
    "This function calling technique allows you to leverage the language understanding and generation capabilities of Claude, while augmenting it with additional capabilities provided by external functions. It's a powerful way to create more capable and versatile AI systems.\n",
    "\n",
    "Some common use cases for function calling include:\n",
    "- Performing complex calculations or data transformations\n",
    "- Retrieving real-time data from APIs\n",
    "- Accessing databases or knowledge bases\n",
    "- Executing actions in external systems\n",
    "\n"
   ]
  },
  {
   "cell_type": "code",
   "execution_count": 29,
   "metadata": {},
   "outputs": [],
   "source": [
    "# !git clone https://github.com/anthropics/anthropic-tools.git\n",
    "# !cd anthropic-tools && pip install -r requirements.txt\n",
    "# !cd anthropic-tools && cp -r tool_use_package ../"
   ]
  },
  {
   "cell_type": "markdown",
   "metadata": {},
   "source": [
    "# Tools with Execution Mode: Automatic"
   ]
  },
  {
   "cell_type": "code",
   "execution_count": 30,
   "metadata": {},
   "outputs": [],
   "source": [
    "import requests\n",
    "\n",
    "from tool_use_package.tools.base_tool import BaseTool\n",
    "from tool_use_package.tool_user import ToolUser"
   ]
  },
  {
   "cell_type": "code",
   "execution_count": 31,
   "metadata": {},
   "outputs": [],
   "source": [
    "class StringReversalTool(BaseTool):\n",
    "    \"\"\"Reverses a given string.\"\"\"\n",
    "\n",
    "    def use_tool(self, string: str):\n",
    "        \"\"\"Reverses the characters in the given string.\"\"\"\n",
    "        reversed_string = string[::-1]\n",
    "        return {\"reversed_string\": reversed_string}\n"
   ]
  },
  {
   "cell_type": "code",
   "execution_count": 32,
   "metadata": {},
   "outputs": [],
   "source": [
    "tool_name = \"reverse_string\"\n",
    "tool_description = \"\"\"The reverse_string tool will return the reversed version of the given string.\"\"\"\n",
    "tool_parameters = [\n",
    "    {\"name\": \"string\", \"type\": \"str\", \"description\": \"The string to be reversed.\"}\n",
    "]"
   ]
  },
  {
   "cell_type": "code",
   "execution_count": 33,
   "metadata": {},
   "outputs": [],
   "source": [
    "string_reversal_tool = StringReversalTool(tool_name, tool_description, tool_parameters)\n"
   ]
  },
  {
   "cell_type": "code",
   "execution_count": 35,
   "metadata": {},
   "outputs": [],
   "source": [
    "# Pass the tool instance into the ToolUser\n",
    "tool_user = ToolUser([string_reversal_tool])\n"
   ]
  },
  {
   "cell_type": "code",
   "execution_count": 36,
   "metadata": {},
   "outputs": [
    {
     "name": "stdout",
     "output_type": "stream",
     "text": [
      "\n",
      "\n",
      "So the reversed string is 'adiepolcycne'.\n"
     ]
    }
   ],
   "source": [
    "# Call the tool_user with a prompt to get a version of Claude that can use your tools!\n",
    "messages = [{\"role\": \"user\", \"content\": \"Reverse the string 'encyclopeida'\"}]\n",
    "print(tool_user.use_tools(messages, execution_mode='automatic'))"
   ]
  },
  {
   "cell_type": "markdown",
   "metadata": {},
   "source": [
    "# Tools with Execution Mode: Manual"
   ]
  },
  {
   "cell_type": "code",
   "execution_count": 37,
   "metadata": {},
   "outputs": [],
   "source": [
    "# Define the function to handle manual Claude responses\n",
    "def handle_manual_claude_res(messages, claude_res, tool_user):\n",
    "    \"\"\"\n",
    "    - messages does not include claude_res\n",
    "    - tool_user should be the ToolUser instance you have been using for previous messages\n",
    "    \"\"\"\n",
    "    # Append Claude's response to messages.\n",
    "    messages.append(claude_res)\n",
    "    \n",
    "    if claude_res['role'] == \"assistant\":\n",
    "        # If the message is not trying to use a tool we should not automatically respond to Claude, and instead we should ask the user for input.\n",
    "        return {\"next_action\": \"user_input\", \"messages\": messages}\n",
    "    elif claude_res['role'] == \"tool_inputs\":\n",
    "        # If the message is trying to use a tool we should parse the tool and arguments, use the tool, create the tool_outputs message with the results, and append that message to messages.\n",
    "        tool_outputs = []\n",
    "        for tool_input in claude_res['tool_inputs']:\n",
    "            tool = next((t for t in tool_user.tools if t.name == tool_input['tool_name']), None)\n",
    "            if tool is None:\n",
    "                messages.append({\"role\": \"tool_outputs\", \"tool_outputs\": None, \"tool_error\": f\"No tool named <tool_name>{tool_input['tool_name']}</tool_name> available.\"})\n",
    "                return {\"next_action\": \"auto_respond\", \"messages\": messages}\n",
    "\n",
    "            tool_result = tool.use_tool(**tool_input['tool_arguments'])\n",
    "            tool_outputs.append({\"tool_name\": tool_input['tool_name'], \"tool_result\": tool_result})\n",
    "        \n",
    "        messages.append({\"role\": \"tool_outputs\", \"tool_outputs\": tool_outputs, \"tool_error\": None})\n",
    "        return {\"next_action\": \"auto_respond\", \"messages\": messages}\n",
    "    else:\n",
    "        raise ValueError(f\"Provided role should be assistant or tool_inputs, got {claude_res['role']}\")"
   ]
  },
  {
   "cell_type": "code",
   "execution_count": 38,
   "metadata": {},
   "outputs": [],
   "source": [
    "# Call the tool_user with a prompt to get a version of Claude that can use your tools!\n",
    "user_message = {\"role\": \"user\", \"content\": \"Reverse the string 'encyclopeida'\"}\n",
    "messages = [user_message]"
   ]
  },
  {
   "cell_type": "code",
   "execution_count": 39,
   "metadata": {},
   "outputs": [
    {
     "name": "stdout",
     "output_type": "stream",
     "text": [
      "\n",
      "\n",
      "The reversed string is 'adiepolcycne'.\n"
     ]
    }
   ],
   "source": [
    "while True:\n",
    "    claude_res = tool_user.use_tools(messages, execution_mode='manual')\n",
    "    result = handle_manual_claude_res(messages, claude_res, tool_user)\n",
    "    messages = result['messages']\n",
    "\n",
    "    if result['next_action'] == 'user_input':\n",
    "        print(claude_res['content'])\n",
    "        break\n",
    "    elif result['next_action'] == 'auto_respond':\n",
    "        continue"
   ]
  },
  {
   "cell_type": "markdown",
   "metadata": {},
   "source": [
    "\n",
    "In this updated code:\n",
    "\n",
    "1. We define the `handle_manual_claude_res` function to process Claude's responses in manual mode. This function checks the role of Claude's response and determines the next action accordingly.\n",
    "\n",
    "2. We start a loop that continues until Claude returns a response with the role 'assistant', indicating that it has completed the task.\n",
    "\n",
    "3. Inside the loop, we call `tool_user.use_tools` with `execution_mode='manual'` to get Claude's response.\n",
    "\n",
    "4. We pass Claude's response to the `handle_manual_claude_res` function, which processes the response and returns the next action and updated messages.\n",
    "\n",
    "5. If the next action is 'user_input', we print Claude's response and break the loop, as the task is complete.\n",
    "\n",
    "6. If the next action is 'auto_respond', we continue the loop to process the next response from Claude.\n"
   ]
  },
  {
   "cell_type": "code",
   "execution_count": null,
   "metadata": {},
   "outputs": [],
   "source": []
  },
  {
   "cell_type": "code",
   "execution_count": null,
   "metadata": {},
   "outputs": [],
   "source": []
  }
 ],
 "metadata": {
  "kernelspec": {
   "display_name": "gpt",
   "language": "python",
   "name": "python3"
  },
  "language_info": {
   "codemirror_mode": {
    "name": "ipython",
    "version": 3
   },
   "file_extension": ".py",
   "mimetype": "text/x-python",
   "name": "python",
   "nbconvert_exporter": "python",
   "pygments_lexer": "ipython3",
   "version": "3.11.2"
  }
 },
 "nbformat": 4,
 "nbformat_minor": 2
}
